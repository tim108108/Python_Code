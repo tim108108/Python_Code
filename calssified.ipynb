{
  "nbformat": 4,
  "nbformat_minor": 0,
  "metadata": {
    "colab": {
      "name": "calssified.ipynb",
      "provenance": [],
      "authorship_tag": "ABX9TyNCQN1N3L49XKz/YCYcIX7r",
      "include_colab_link": true
    },
    "kernelspec": {
      "name": "python3",
      "display_name": "Python 3"
    },
    "language_info": {
      "name": "python"
    }
  },
  "cells": [
    {
      "cell_type": "markdown",
      "metadata": {
        "id": "view-in-github",
        "colab_type": "text"
      },
      "source": [
        "<a href=\"https://colab.research.google.com/github/tim108108/qcn/blob/master/calssified.ipynb\" target=\"_parent\"><img src=\"https://colab.research.google.com/assets/colab-badge.svg\" alt=\"Open In Colab\"/></a>"
      ]
    },
    {
      "cell_type": "code",
      "metadata": {
        "id": "WbHC53bnAQrU"
      },
      "source": [
        "!pip install -q tensorflow==2.4.1\n",
        "!pip install -q tensorflow_quantum\n",
        "!pip install -q cirq"
      ],
      "execution_count": null,
      "outputs": []
    },
    {
      "cell_type": "code",
      "metadata": {
        "id": "H-FdbI_GwIfb"
      },
      "source": [
        "import cirq,random,sympy\n",
        "import numpy as np\n",
        "import tensorflow as tf\n",
        "import tensorflow_quantum as tfq\n",
        "from tensorflow import keras\n",
        "import matplotlib.pyplot as plt\n",
        "\n",
        "\n",
        "qubit = cirq.GridQubit(0,0)\n",
        "# Qutum data labels\n",
        "expected_labels = np.array([[1, 0],[0, 1]])\n",
        "\n",
        "# Random rotation of X and Z axes\n",
        "angle = np.random.uniform(0, 2 * np.pi)\n",
        "\n",
        "# Build the quantum data \n",
        "a = cirq.Circuit(cirq.ry(angle)(qubit))\n",
        "b = cirq.Circuit(cirq.ry(angle + np.pi/2)(qubit))\n",
        "quantum_data = tfq.convert_to_tensor([a, b])\n",
        "\n",
        "# Build the quantum model\n",
        "q_data_input=tf.keras.Input(shape=(), dtype=tf.dtypes.string)\n",
        "\n",
        "theta = sympy.Symbol('theta')\n",
        "q_model = cirq.Circuit(cirq.ry(theta)(qubit))\n",
        "\n",
        "expectation = tfq.layers.PQC(q_model, cirq.Z(qubit))\n",
        "expectation_output = expectation(q_data_input)\n",
        "\n",
        "# Attach the classical SoftMax classifier\n",
        "classifier = tf.keras.layers.Dense(2, activation=tf.keras.activations.softmax)\n",
        "classifier_ouput = classifier(expectation_output)\n",
        "\n",
        "# Train the hybrid model\n",
        "model = tf.keras.Model(inputs=q_data_input,\n",
        "            outputs=classifier_ouput)\n",
        "model.compile(\n",
        "    optimizer=tf.keras.optimizers.Adam(learning_rate=0.1),\n",
        "    loss=tf.keras.losses.CategoricalCrossentropy())\n",
        "history = model.fit(x=quantum_data, y=expected_labels,\n",
        "            epochs=250, verbose=0)"
      ],
      "execution_count": 3,
      "outputs": []
    },
    {
      "cell_type": "code",
      "metadata": {
        "id": "Za_6DIhKCDyJ"
      },
      "source": [
        "#Check inference on nosiy quantum datapoints\n",
        "noise = np.random.uniform(-0.25, 0.25, 2)\n",
        "test_data = tfq.convert_to_tensor([\n",
        "          cirq.Circuit(\n",
        "            cirq.ry(angle + noise[0])(qubit)),\n",
        "          cirq.Circuit(\n",
        "            cirq.ry(angle + noise[1] + np.pi/2)(qubit))\n",
        "        ])\n",
        "predictions = model.predict(test_data)"
      ],
      "execution_count": 4,
      "outputs": []
    },
    {
      "cell_type": "code",
      "metadata": {
        "colab": {
          "base_uri": "https://localhost:8080/",
          "height": 295
        },
        "id": "KO3z9Rh798S_",
        "outputId": "ee251d3e-6ae5-461b-ada4-5d2eda32ae04"
      },
      "source": [
        "plt.plot(history.history['loss'])\n",
        "plt.title('Model loss')\n",
        "plt.ylabel('Loss')\n",
        "plt.xlabel('Epoch')\n",
        "plt.legend(['Train', 'Test'], loc='upper left')\n",
        "plt.show()"
      ],
      "execution_count": 5,
      "outputs": [
        {
          "output_type": "display_data",
          "data": {
            "image/png": "[encoded data removed]",
            "text/plain": [
              "<Figure size 432x288 with 1 Axes>"
            ]
          },
          "metadata": {
            "tags": [],
            "needs_background": "light"
          }
        }
      ]
    }
  ]
}