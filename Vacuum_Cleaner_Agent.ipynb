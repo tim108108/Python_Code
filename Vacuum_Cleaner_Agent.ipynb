{
  "nbformat": 4,
  "nbformat_minor": 0,
  "metadata": {
    "colab": {
      "name": "Vacuum Cleaner Agent.ipynb",
      "provenance": [],
      "authorship_tag": "ABX9TyP1ZnlyMRp1cfJx0t2z7/a4",
      "include_colab_link": true
    },
    "kernelspec": {
      "name": "python3",
      "display_name": "Python 3"
    },
    "language_info": {
      "name": "python"
    }
  },
  "cells": [
    {
      "cell_type": "markdown",
      "metadata": {
        "id": "view-in-github",
        "colab_type": "text"
      },
      "source": [
        "<a href=\"https://colab.research.google.com/github/tim108108/Python_Code/blob/master/Vacuum_Cleaner_Agent.ipynb\" target=\"_parent\"><img src=\"https://colab.research.google.com/assets/colab-badge.svg\" alt=\"Open In Colab\"/></a>"
      ]
    },
    {
      "cell_type": "code",
      "metadata": {
        "id": "6hOOgnb4bKyz",
        "colab": {
          "base_uri": "https://localhost:8080/"
        },
        "outputId": "b7301902-365a-48be-e517-b6fe046a66b1"
      },
      "source": [
        "import numpy as np\n",
        "\n",
        "class env:\n",
        "\n",
        "  def intit(length=4 ,width=4):   #預設4x4\n",
        "    world = np.zeros((length, width))\n",
        "    for i in range(world.shape[0]):\n",
        "      for j in range(world.shape[1]):\n",
        "        world[i][j] = np.random.randint(2)\n",
        "    return world \n",
        "\n",
        "class agent:\n",
        "\n",
        "  def scan(world):\n",
        "    return np.argwhere(world>0)\n",
        "  def act(world, dust_list):\n",
        "    for i in dust_list:\n",
        "      world[i[0],i[1]]=0\n",
        "      print(\"===================\")\n",
        "      print(world)\n",
        "      print(\"clean\",i)\n",
        "\n",
        "\n",
        "\n",
        "mars = env.intit()        #生成環境，預設4x4\n",
        "print(\"What the environment like:\\n\",mars,\"\\n\")\n",
        "\n",
        "print(\"list of dust\")\n",
        "dirty = agent.scan(mars)    #找出髒污\n",
        "print(dirty)           #列出位置\n",
        "agent.act(mars, dirty)     #執行動作"
      ],
      "execution_count": 264,
      "outputs": [
        {
          "output_type": "stream",
          "name": "stdout",
          "text": [
            "What the environment like:\n",
            " [[1. 1. 0. 1.]\n",
            " [1. 1. 0. 0.]\n",
            " [1. 1. 0. 0.]\n",
            " [0. 1. 1. 1.]] \n",
            "\n",
            "list of dust\n",
            "[[0 0]\n",
            " [0 1]\n",
            " [0 3]\n",
            " [1 0]\n",
            " [1 1]\n",
            " [2 0]\n",
            " [2 1]\n",
            " [3 1]\n",
            " [3 2]\n",
            " [3 3]]\n",
            "===================\n",
            "[[0. 1. 0. 1.]\n",
            " [1. 1. 0. 0.]\n",
            " [1. 1. 0. 0.]\n",
            " [0. 1. 1. 1.]]\n",
            "clean [0 0]\n",
            "===================\n",
            "[[0. 0. 0. 1.]\n",
            " [1. 1. 0. 0.]\n",
            " [1. 1. 0. 0.]\n",
            " [0. 1. 1. 1.]]\n",
            "clean [0 1]\n",
            "===================\n",
            "[[0. 0. 0. 0.]\n",
            " [1. 1. 0. 0.]\n",
            " [1. 1. 0. 0.]\n",
            " [0. 1. 1. 1.]]\n",
            "clean [0 3]\n",
            "===================\n",
            "[[0. 0. 0. 0.]\n",
            " [0. 1. 0. 0.]\n",
            " [1. 1. 0. 0.]\n",
            " [0. 1. 1. 1.]]\n",
            "clean [1 0]\n",
            "===================\n",
            "[[0. 0. 0. 0.]\n",
            " [0. 0. 0. 0.]\n",
            " [1. 1. 0. 0.]\n",
            " [0. 1. 1. 1.]]\n",
            "clean [1 1]\n",
            "===================\n",
            "[[0. 0. 0. 0.]\n",
            " [0. 0. 0. 0.]\n",
            " [0. 1. 0. 0.]\n",
            " [0. 1. 1. 1.]]\n",
            "clean [2 0]\n",
            "===================\n",
            "[[0. 0. 0. 0.]\n",
            " [0. 0. 0. 0.]\n",
            " [0. 0. 0. 0.]\n",
            " [0. 1. 1. 1.]]\n",
            "clean [2 1]\n",
            "===================\n",
            "[[0. 0. 0. 0.]\n",
            " [0. 0. 0. 0.]\n",
            " [0. 0. 0. 0.]\n",
            " [0. 0. 1. 1.]]\n",
            "clean [3 1]\n",
            "===================\n",
            "[[0. 0. 0. 0.]\n",
            " [0. 0. 0. 0.]\n",
            " [0. 0. 0. 0.]\n",
            " [0. 0. 0. 1.]]\n",
            "clean [3 2]\n",
            "===================\n",
            "[[0. 0. 0. 0.]\n",
            " [0. 0. 0. 0.]\n",
            " [0. 0. 0. 0.]\n",
            " [0. 0. 0. 0.]]\n",
            "clean [3 3]\n"
          ]
        }
      ]
    }
  ]
}